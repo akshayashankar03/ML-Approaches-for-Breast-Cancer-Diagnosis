{
  "nbformat": 4,
  "nbformat_minor": 0,
  "metadata": {
    "colab": {
      "provenance": []
    },
    "kernelspec": {
      "name": "python3",
      "display_name": "Python 3"
    },
    "language_info": {
      "name": "python"
    }
  },
  "cells": [
    {
      "cell_type": "markdown",
      "source": [
        "DECISION TREE\n"
      ],
      "metadata": {
        "id": "-Zn9Ls3FSVR5"
      }
    },
    {
      "cell_type": "code",
      "source": [
        "# IMPORTING LIBRARIES\n",
        "import numpy as np\n",
        "import pandas as pd\n",
        "from sklearn.model_selection import train_test_split\n",
        "from sklearn.preprocessing import LabelEncoder, StandardScaler\n",
        "from sklearn.tree import DecisionTreeClassifier\n",
        "from sklearn.metrics import confusion_matrix,accuracy_score\n",
        "from sklearn.impute import SimpleImputer\n",
        "\n",
        "# IMPORTING DATASET\n",
        "# Assuming the CSV file is named 'your_dataset.csv'\n",
        "dataset = pd.read_csv(\"/content/data.csv\")\n",
        "\n",
        "# ENCODING CATEGORICAL VARIABLES\n",
        "# Encode the target variable 'diagnosis'\n",
        "le = LabelEncoder()\n",
        "dataset['diagnosis'] = le.fit_transform(dataset['diagnosis'])\n",
        "\n",
        "# Separating features and target variable\n",
        "x = dataset.iloc[:, 2:].values  # Assuming your features start from the third column\n",
        "y = dataset['diagnosis'].values\n",
        "\n",
        "# HANDLE MISSING VALUES\n",
        "imputer = SimpleImputer(strategy='mean')\n",
        "x = imputer.fit_transform(x)\n",
        "\n",
        "# SPLITTING THE DATASET\n",
        "x_train, x_test, y_train, y_test = train_test_split(x, y, test_size=0.25, random_state=10)\n",
        "\n",
        "# FEATURE SCALING\n",
        "sc = StandardScaler()\n",
        "x_train = sc.fit_transform(x_train)\n",
        "x_test = sc.transform(x_test)\n",
        "\n",
        "# CREATING A MODEL\n",
        "classifier = DecisionTreeClassifier(criterion='entropy', random_state=10)\n",
        "classifier.fit(x_train, y_train)\n",
        "\n",
        "# PREDICTING THE RESULT\n",
        "y_pred = classifier.predict(x_test)\n",
        "print(y_pred)\n",
        "\n",
        "# CONFUSION MATRIX\n",
        "cm = confusion_matrix(y_test, y_pred)\n",
        "print(cm)\n",
        "\n",
        "# ACCURACY\n",
        "accuracy = accuracy_score(y_test, y_pred)\n",
        "print(\"Accuracy:\", accuracy)"
      ],
      "metadata": {
        "colab": {
          "base_uri": "https://localhost:8080/"
        },
        "id": "pP-3uP3cQzfx",
        "outputId": "a636e149-b7d3-42b6-eb7c-d86d53d2b374"
      },
      "execution_count": 9,
      "outputs": [
        {
          "output_type": "stream",
          "name": "stdout",
          "text": [
            "[1 0 0 1 0 0 0 0 1 1 0 0 1 0 1 1 0 1 0 1 0 1 0 0 1 1 0 1 0 0 0 0 1 0 0 0 0\n",
            " 0 0 0 0 0 0 1 0 1 1 1 1 1 0 1 1 0 0 1 1 0 1 0 1 0 1 1 0 1 0 0 0 1 0 0 0 0\n",
            " 0 1 0 0 1 1 0 0 1 0 0 0 1 1 0 1 0 0 1 0 0 0 1 0 1 0 1 1 0 0 0 0 1 1 0 0 0\n",
            " 0 1 1 1 0 1 1 1 0 0 1 0 1 0 0 1 1 0 0 0 0 0 0 0 1 0 1 0 1 0 0 1]\n",
            "[[82  9]\n",
            " [ 3 49]]\n",
            "Accuracy: 0.916083916083916\n"
          ]
        }
      ]
    },
    {
      "cell_type": "markdown",
      "source": [
        "SUPPORT VECTOR MACHINE\n"
      ],
      "metadata": {
        "id": "0T3SiK5KSZsC"
      }
    },
    {
      "cell_type": "code",
      "source": [
        "# IMPORTING LIBRARIES\n",
        "import numpy as np\n",
        "import pandas as pd\n",
        "from sklearn.model_selection import train_test_split\n",
        "from sklearn.preprocessing import LabelEncoder, StandardScaler\n",
        "from sklearn.svm import SVC\n",
        "from sklearn.metrics import accuracy_score, confusion_matrix\n",
        "from sklearn.impute import SimpleImputer\n",
        "\n",
        "# IMPORTING DATASET\n",
        "# Assuming the CSV file is named 'your_dataset.csv'\n",
        "dataset = pd.read_csv(\"/content/data.csv\")\n",
        "\n",
        "# ENCODING CATEGORICAL VARIABLES\n",
        "# Encode the target variable 'diagnosis'\n",
        "le = LabelEncoder()\n",
        "dataset['diagnosis'] = le.fit_transform(dataset['diagnosis'])\n",
        "\n",
        "# Separating features and target variable\n",
        "x = dataset.iloc[:, 2:].values  # Assuming your features start from the third column\n",
        "y = dataset['diagnosis'].values\n",
        "\n",
        "# HANDLE MISSING VALUES\n",
        "imputer = SimpleImputer(strategy='mean')\n",
        "x = imputer.fit_transform(x)\n",
        "\n",
        "# SPLITTING THE DATASET\n",
        "x_train, x_test, y_train, y_test = train_test_split(x, y, test_size=0.25, random_state=10)\n",
        "\n",
        "# FEATURE SCALING\n",
        "sc = StandardScaler()\n",
        "x_train = sc.fit_transform(x_train)\n",
        "x_test = sc.transform(x_test)\n",
        "\n",
        "\n",
        "# SVM with Cross-Validation\n",
        "from sklearn.model_selection import cross_val_score\n",
        "\n",
        "svm_classifier = SVC(kernel='linear', random_state=10)\n",
        "svm_cv_scores = cross_val_score(svm_classifier, x, y, cv=5)  # You can adjust the number of folds (cv)\n",
        "print(\"SVM Cross-Validation Scores:\", svm_cv_scores)\n",
        "print(\"SVM Average Accuracy:\", np.mean(svm_cv_scores))\n",
        "\n",
        "svm_classifier.fit(x_train, y_train)\n",
        "svm_y_pred = svm_classifier.predict(x_test)\n",
        "\n",
        "# ACCURACY\n",
        "svm_accuracy = accuracy_score(y_test, svm_y_pred)\n",
        "print(\"SVM Accuracy:\", svm_accuracy)\n",
        "\n",
        "# CONFUSION MATRIX\n",
        "print(\"Confusion Matrix:\")\n",
        "print(confusion_matrix(y_test, svm_y_pred))\n",
        "\n",
        "# ACCURACY\n",
        "accuracy = accuracy_score(y_test, y_pred)\n",
        "print(\"Accuracy:\", accuracy)\n"
      ],
      "metadata": {
        "colab": {
          "base_uri": "https://localhost:8080/"
        },
        "id": "9UjkE6gdRK2J",
        "outputId": "15cb2c82-4faa-4e3c-94d6-6b3fdc59119e"
      },
      "execution_count": 14,
      "outputs": [
        {
          "output_type": "stream",
          "name": "stdout",
          "text": [
            "SVM Cross-Validation Scores: [0.94736842 0.92982456 0.97368421 0.92105263 0.95575221]\n",
            "SVM Average Accuracy: 0.9455364073901569\n",
            "SVM Accuracy: 0.9370629370629371\n",
            "Confusion Matrix:\n",
            "[[85  6]\n",
            " [ 3 49]]\n",
            "Accuracy: 0.916083916083916\n"
          ]
        }
      ]
    },
    {
      "cell_type": "markdown",
      "source": [
        "K - NEAREST NEIGHBORS"
      ],
      "metadata": {
        "id": "MeqB0cOzSsRS"
      }
    },
    {
      "cell_type": "code",
      "source": [
        "# IMPORTING LIBRARIES\n",
        "import numpy as np\n",
        "import pandas as pd\n",
        "from sklearn.model_selection import train_test_split\n",
        "from sklearn.preprocessing import LabelEncoder, StandardScaler\n",
        "from sklearn.neighbors import KNeighborsClassifier\n",
        "from sklearn.metrics import accuracy_score, confusion_matrix\n",
        "from sklearn.impute import SimpleImputer\n",
        "\n",
        "# IMPORTING DATASET\n",
        "# Assuming the CSV file is named 'your_dataset.csv'\n",
        "dataset = pd.read_csv(\"/content/data.csv\")\n",
        "\n",
        "# ENCODING CATEGORICAL VARIABLES\n",
        "# Encode the target variable 'diagnosis'\n",
        "le = LabelEncoder()\n",
        "dataset['diagnosis'] = le.fit_transform(dataset['diagnosis'])\n",
        "\n",
        "# Separating features and target variable\n",
        "x = dataset.iloc[:, 2:].values  # Assuming your features start from the third column\n",
        "y = dataset['diagnosis'].values\n",
        "\n",
        "# HANDLE MISSING VALUES\n",
        "imputer = SimpleImputer(strategy='mean')\n",
        "x = imputer.fit_transform(x)\n",
        "\n",
        "# SPLITTING THE DATASET\n",
        "x_train, x_test, y_train, y_test = train_test_split(x, y, test_size=0.25, random_state=10)\n",
        "\n",
        "# FEATURE SCALING\n",
        "sc = StandardScaler()\n",
        "x_train = sc.fit_transform(x_train)\n",
        "x_test = sc.transform(x_test)\n",
        "\n",
        "# KNN\n",
        "knn_classifier = KNeighborsClassifier(n_neighbors=5)\n",
        "knn_classifier.fit(x_train, y_train)\n",
        "knn_y_pred = knn_classifier.predict(x_test)\n",
        "\n",
        "# ACCURACY\n",
        "knn_accuracy = accuracy_score(y_test, knn_y_pred)\n",
        "print(\"KNN Accuracy:\", knn_accuracy)\n",
        "\n",
        "# CONFUSION MATRIX\n",
        "print(\"Confusion Matrix:\")\n",
        "print(confusion_matrix(y_test, knn_y_pred))\n",
        "\n",
        "# ACCURACY\n",
        "accuracy = accuracy_score(y_test, y_pred)\n",
        "print(\"Accuracy:\", accuracy)\n"
      ],
      "metadata": {
        "colab": {
          "base_uri": "https://localhost:8080/"
        },
        "id": "67N9KKFnShTn",
        "outputId": "2a0c2d06-8959-4587-a819-3d9b2a0fd27f"
      },
      "execution_count": 12,
      "outputs": [
        {
          "output_type": "stream",
          "name": "stdout",
          "text": [
            "KNN Accuracy: 0.986013986013986\n",
            "Confusion Matrix:\n",
            "[[91  0]\n",
            " [ 2 50]]\n",
            "Accuracy: 0.916083916083916\n"
          ]
        }
      ]
    },
    {
      "cell_type": "markdown",
      "source": [
        "LOGISTIC REGRESSION"
      ],
      "metadata": {
        "id": "gCAWsSipTWZo"
      }
    },
    {
      "cell_type": "code",
      "source": [
        "# IMPORTING LIBRARIES\n",
        "import numpy as np\n",
        "import pandas as pd\n",
        "from sklearn.model_selection import train_test_split\n",
        "from sklearn.preprocessing import LabelEncoder, StandardScaler\n",
        "from sklearn.linear_model import LogisticRegression\n",
        "from sklearn.metrics import accuracy_score, confusion_matrix\n",
        "from sklearn.impute import SimpleImputer\n",
        "\n",
        "# IMPORTING DATASET\n",
        "# Assuming the CSV file is named 'your_dataset.csv'\n",
        "dataset = pd.read_csv(\"/content/data.csv\")\n",
        "\n",
        "# ENCODING CATEGORICAL VARIABLES\n",
        "# Encode the target variable 'diagnosis'\n",
        "le = LabelEncoder()\n",
        "dataset['diagnosis'] = le.fit_transform(dataset['diagnosis'])\n",
        "\n",
        "# Separating features and target variable\n",
        "x = dataset.iloc[:, 2:].values  # Assuming your features start from the third column\n",
        "y = dataset['diagnosis'].values\n",
        "\n",
        "# HANDLE MISSING VALUES\n",
        "imputer = SimpleImputer(strategy='mean')\n",
        "x = imputer.fit_transform(x)\n",
        "\n",
        "# SPLITTING THE DATASET\n",
        "x_train, x_test, y_train, y_test = train_test_split(x, y, test_size=0.25, random_state=10)\n",
        "\n",
        "# FEATURE SCALING\n",
        "sc = StandardScaler()\n",
        "x_train = sc.fit_transform(x_train)\n",
        "x_test = sc.transform(x_test)\n",
        "\n",
        "# Logistic Regression\n",
        "logreg_classifier = LogisticRegression(random_state=10)\n",
        "logreg_classifier.fit(x_train, y_train)\n",
        "logreg_y_pred = logreg_classifier.predict(x_test)\n",
        "\n",
        "# ACCURACY\n",
        "logreg_accuracy = accuracy_score(y_test, logreg_y_pred)\n",
        "print(\"Logistic Regression Accuracy:\", logreg_accuracy)\n",
        "\n",
        "# CONFUSION MATRIX\n",
        "print(\"Confusion Matrix:\")\n",
        "print(confusion_matrix(y_test, logreg_y_pred))\n",
        "\n",
        "# ACCURACY\n",
        "accuracy = accuracy_score(y_test, y_pred)\n",
        "print(\"Accuracy:\", accuracy)\n"
      ],
      "metadata": {
        "colab": {
          "base_uri": "https://localhost:8080/"
        },
        "id": "Ld-YFIH7S1w_",
        "outputId": "3dd0233c-e790-4736-c3b6-e8f0ab5b17e6"
      },
      "execution_count": 15,
      "outputs": [
        {
          "output_type": "stream",
          "name": "stdout",
          "text": [
            "Logistic Regression Accuracy: 0.958041958041958\n",
            "Confusion Matrix:\n",
            "[[87  4]\n",
            " [ 2 50]]\n",
            "Accuracy: 0.916083916083916\n"
          ]
        }
      ]
    },
    {
      "cell_type": "code",
      "source": [],
      "metadata": {
        "id": "qc683T_DT3kh"
      },
      "execution_count": null,
      "outputs": []
    }
  ]
}